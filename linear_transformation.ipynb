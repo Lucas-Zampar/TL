{
 "cells": [
  {
   "cell_type": "code",
   "execution_count": 1,
   "metadata": {},
   "outputs": [],
   "source": [
    "%matplotlib notebook\n",
    "import matplotlib.pyplot as plt\n",
    "import ipywidgets as widgets\n",
    "import numpy as np\n",
    "\n",
    "from IPython.display import HTML, display\n",
    "from CreateFigure import create_figure"
   ]
  },
  {
   "cell_type": "code",
   "execution_count": 4,
   "metadata": {
    "scrolled": true
   },
   "outputs": [],
   "source": [
    "html_enunciado = \"\"\"\n",
    "<br>\n",
    "<p style='font-size: 1.2em;'> Informe os dados para a transformação linear conforme a equação abaixo:</p>\n",
    "<br>\n",
    "\"\"\"\n",
    "\n",
    "#html_eq = \"\"\"\n",
    "#<img src='eq.svg' style='display: block; margin-left: auto; margin-right: auto; width: 25%;'>\n",
    "#<br>\n",
    "#\"\"\"\n",
    "\n",
    "html_eq = \"\"\"\n",
    "<img src='eq.svg' style='width: 25%;'>\n",
    "<br>\n",
    "\"\"\"\n",
    "\n",
    "html_separator = \"<hr style='border: 0; border-top: 1px solid #000;'>\"\n",
    "\n",
    "layout_wid  =  {'width':'200px'}\n",
    "style_wid = {'description_width':'20%'}\n",
    "\n",
    "widgets_list = []\n",
    "\n",
    "for desc in ['a:', 'b:', 'c:', 'd:', 'e:', 'f:', 'x:', 'y:', 'z:']:\n",
    "    wid = widgets.FloatText(value=0, description=desc, style=style_wid, layout=layout_wid)\n",
    "    widgets_list.append(wid)\n",
    "\n",
    "first_hbox = widgets.HBox(widgets_list[:3])\n",
    "second_hbox = widgets.HBox(widgets_list[3:6])\n",
    "third_hbox = widgets.HBox(widgets_list[6:])\n",
    "\n",
    "button = widgets.Button(description='Transformar', \n",
    "                        tooltip='Tranformar', \n",
    "                        icon='check',\n",
    "                        layout = {'width':'70%', 'margin':'5% 0% 5% 0%'})\n",
    "\n",
    "output = widgets.Output()\n",
    "#tab = widgets.Tab(children = [output])\n",
    "\n",
    "def on_button_click(b):\n",
    "    first_matrix_row = [widgets_list[_].value for _ in range(3)]\n",
    "    second_matrix_row = [widgets_list[_].value for _ in range(3, 6)]\n",
    "    vector = [widgets_list[_].value for _ in range(6, 9)]\n",
    "    \n",
    "    T = np.array([first_matrix_row,\n",
    "                  second_matrix_row]) \n",
    "    \n",
    "    vector3d = np.array(vector)\n",
    "    vector2d = T@vector3d\n",
    "               \n",
    "    with output: \n",
    "        output.clear_output()\n",
    "        plt.show(create_figure(vector3d, vector2d))\n",
    "\n",
    "button.on_click(on_button_click)\n",
    "\n",
    "\n",
    "VBox01 = widgets.VBox([first_hbox, second_hbox])\n",
    "VBox02 = widgets.VBox([third_hbox, button, output])"
   ]
  },
  {
   "cell_type": "code",
   "execution_count": 5,
   "metadata": {},
   "outputs": [
    {
     "data": {
      "text/html": [
       "\n",
       "<br>\n",
       "<p style='font-size: 1.2em;'> Informe os dados para a transformação linear conforme a equação abaixo:</p>\n",
       "<br>\n"
      ],
      "text/plain": [
       "<IPython.core.display.HTML object>"
      ]
     },
     "metadata": {},
     "output_type": "display_data"
    },
    {
     "data": {
      "text/html": [
       "\n",
       "<img src='eq.svg' style='width: 25%;'>\n",
       "<br>\n"
      ],
      "text/plain": [
       "<IPython.core.display.HTML object>"
      ]
     },
     "metadata": {},
     "output_type": "display_data"
    },
    {
     "data": {
      "text/html": [
       "<hr style='border: 0; border-top: 1px solid #000;'>"
      ],
      "text/plain": [
       "<IPython.core.display.HTML object>"
      ]
     },
     "metadata": {},
     "output_type": "display_data"
    },
    {
     "data": {
      "application/vnd.jupyter.widget-view+json": {
       "model_id": "0742e54014ef4199bb2eb09cd89721c3",
       "version_major": 2,
       "version_minor": 0
      },
      "text/plain": [
       "VBox(children=(HBox(children=(FloatText(value=0.0, description='a:', layout=Layout(width='200px'), style=Descr…"
      ]
     },
     "metadata": {},
     "output_type": "display_data"
    },
    {
     "data": {
      "text/html": [
       "<hr style='border: 0; border-top: 1px solid #000;'>"
      ],
      "text/plain": [
       "<IPython.core.display.HTML object>"
      ]
     },
     "metadata": {},
     "output_type": "display_data"
    },
    {
     "data": {
      "application/vnd.jupyter.widget-view+json": {
       "model_id": "61b24a336c1543aebd8e5228303f07e8",
       "version_major": 2,
       "version_minor": 0
      },
      "text/plain": [
       "VBox(children=(HBox(children=(FloatText(value=0.0, description='x:', layout=Layout(width='200px'), style=Descr…"
      ]
     },
     "metadata": {},
     "output_type": "display_data"
    }
   ],
   "source": [
    "display(HTML(html_enunciado))\n",
    "display(HTML(html_eq))\n",
    "display(HTML(html_separator))\n",
    "display(VBox01)\n",
    "display(HTML(html_separator))\n",
    "display(VBox02)"
   ]
  },
  {
   "cell_type": "code",
   "execution_count": null,
   "metadata": {},
   "outputs": [],
   "source": []
  }
 ],
 "metadata": {
  "kernelspec": {
   "display_name": "Python 3 (ipykernel)",
   "language": "python",
   "name": "python3"
  },
  "language_info": {
   "codemirror_mode": {
    "name": "ipython",
    "version": 3
   },
   "file_extension": ".py",
   "mimetype": "text/x-python",
   "name": "python",
   "nbconvert_exporter": "python",
   "pygments_lexer": "ipython3",
   "version": "3.9.12"
  }
 },
 "nbformat": 4,
 "nbformat_minor": 4
}
